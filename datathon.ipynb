{
 "cells": [
  {
   "cell_type": "code",
   "execution_count": 15,
   "metadata": {},
   "outputs": [
    {
     "name": "stdout",
     "output_type": "stream",
     "text": [
      "[2024/10/12 21:33:02] ppocr DEBUG: Namespace(help='==SUPPRESS==', use_gpu=False, use_xpu=False, use_npu=False, use_mlu=False, ir_optim=True, use_tensorrt=False, min_subgraph_size=15, precision='fp32', gpu_mem=500, gpu_id=0, image_dir=None, page_num=0, det_algorithm='DB', det_model_dir='/Users/wtdafg/.paddleocr/whl/det/en/en_PP-OCRv3_det_infer', det_limit_side_len=960, det_limit_type='max', det_box_type='quad', det_db_thresh=0.3, det_db_box_thresh=0.6, det_db_unclip_ratio=1.5, max_batch_size=10, use_dilation=False, det_db_score_mode='fast', det_east_score_thresh=0.8, det_east_cover_thresh=0.1, det_east_nms_thresh=0.2, det_sast_score_thresh=0.5, det_sast_nms_thresh=0.2, det_pse_thresh=0, det_pse_box_thresh=0.85, det_pse_min_area=16, det_pse_scale=1, scales=[8, 16, 32], alpha=1.0, beta=1.0, fourier_degree=5, rec_algorithm='SVTR_LCNet', rec_model_dir='/Users/wtdafg/.paddleocr/whl/rec/en/en_PP-OCRv4_rec_infer', rec_image_inverse=True, rec_image_shape='3, 48, 320', rec_batch_num=6, max_text_length=25, rec_char_dict_path='/Users/wtdafg/Documents/python/venv/lib/python3.11/site-packages/paddleocr/ppocr/utils/en_dict.txt', use_space_char=True, vis_font_path='./doc/fonts/simfang.ttf', drop_score=0.5, e2e_algorithm='PGNet', e2e_model_dir=None, e2e_limit_side_len=768, e2e_limit_type='max', e2e_pgnet_score_thresh=0.5, e2e_char_dict_path='./ppocr/utils/ic15_dict.txt', e2e_pgnet_valid_set='totaltext', e2e_pgnet_mode='fast', use_angle_cls=True, cls_model_dir='/Users/wtdafg/.paddleocr/whl/cls/ch_ppocr_mobile_v2.0_cls_infer', cls_image_shape='3, 48, 192', label_list=['0', '180'], cls_batch_num=6, cls_thresh=0.9, enable_mkldnn=False, cpu_threads=10, use_pdserving=False, warmup=False, sr_model_dir=None, sr_image_shape='3, 32, 128', sr_batch_num=1, draw_img_save_dir='./inference_results', save_crop_res=False, crop_res_save_dir='./output', use_mp=False, total_process_num=1, process_id=0, benchmark=False, save_log_path='./log_output/', show_log=True, use_onnx=False, return_word_box=False, output='./output', table_max_len=488, table_algorithm='TableAttn', table_model_dir=None, merge_no_span_structure=True, table_char_dict_path=None, layout_model_dir=None, layout_dict_path=None, layout_score_threshold=0.5, layout_nms_threshold=0.5, kie_algorithm='LayoutXLM', ser_model_dir=None, re_model_dir=None, use_visual_backbone=True, ser_dict_path='../train_data/XFUND/class_list_xfun.txt', ocr_order_method=None, mode='structure', image_orientation=False, layout=True, table=True, ocr=True, recovery=False, use_pdf2docx_api=False, invert=False, binarize=False, alphacolor=(255, 255, 255), lang='en', det=True, rec=True, type='ocr', savefile=False, ocr_version='PP-OCRv4', structure_version='PP-StructureV2')\n",
      "[2024/10/12 21:33:03] ppocr DEBUG: dt_boxes num : 11, elapsed : 0.48229098320007324\n",
      "[2024/10/12 21:33:03] ppocr DEBUG: cls num  : 11, elapsed : 0.06838512420654297\n",
      "[2024/10/12 21:33:04] ppocr DEBUG: rec_res num  : 11, elapsed : 0.8047080039978027\n",
      "(46.900000000000006, ['3.2', '20.0', '6.5', '1.8', '4.7', '10.7'])\n"
     ]
    }
   ],
   "source": [
    "import easyocr\n",
    "import cv2\n",
    "import numpy as np\n",
    "import re\n",
    "# Import required libraries\n",
    "import cv2\n",
    "from paddleocr import PaddleOCR, draw_ocr\n",
    "import matplotlib.pyplot as plt\n",
    "text = []\n",
    "# Load image using OpenCV\n",
    "image_path = '/Users/wtdafg/Documents/python/datathon/8517702bce16aa5e85067bd622582086dbdbbddd.webp'\n",
    "# Compile regex pattern for number extraction\n",
    "number_pattern = re.compile(r'[-+]?[0-9]*\\.?[0-9]+(?:,[0-9]+)?')\n",
    "\n",
    "\n",
    "def filter_and_calculate_total_area(items):\n",
    "    # Filter, replace commas, handle duplicate dots, and extract value inside parentheses if present\n",
    "    filtered_items = []\n",
    "    \n",
    "    for item in items:\n",
    "        # Replace commas with dots and handle duplicate dots\n",
    "        item = item.replace('..', '.').replace(',', '.')\n",
    "        \n",
    "        # If item contains a value in parentheses like '3.7(1.8)', extract the value inside\n",
    "        match = re.search(r'\\(([^)]+)\\)', item)\n",
    "        if match:\n",
    "            item = match.group(1)  # Take the value inside the parentheses\n",
    "        \n",
    "        # Check if the item contains any valid number-related character (dot or comma already replaced)\n",
    "        if any(char in item for char in ['.']):\n",
    "            filtered_items.append(item)\n",
    "    \n",
    "    # Convert to float and calculate the total area in one pass\n",
    "    total_area = sum(float(item) for item in filtered_items)\n",
    "    \n",
    "    return total_area, filtered_items\n",
    "\n",
    "\n",
    "\n",
    "\n",
    "# Initialize PaddleOCR model\n",
    "ocr_model = PaddleOCR(use_angle_cls=True, lang='en')  # You can set 'en' for English or other languages\n",
    "\n",
    "# Perform OCR on the image\n",
    "ocr_results = ocr_model.ocr(image_path)\n",
    "\n",
    "# Extract and print text from the OCR results\n",
    "#print(\"Recognized Text:\")\n",
    "for line in ocr_results:\n",
    "    for word_info in line:\n",
    "        text.append(word_info[1][0])\n",
    "        #print(word_info[1][0]) \n",
    "        \n",
    "print(filter_and_calculate_total_area(text))"
   ]
  },
  {
   "cell_type": "code",
   "execution_count": 16,
   "metadata": {},
   "outputs": [
    {
     "name": "stdout",
     "output_type": "stream",
     "text": [
      "[2024/10/12 21:34:09] ppocr DEBUG: Namespace(help='==SUPPRESS==', use_gpu=False, use_xpu=False, use_npu=False, use_mlu=False, ir_optim=True, use_tensorrt=False, min_subgraph_size=15, precision='fp32', gpu_mem=500, gpu_id=0, image_dir=None, page_num=0, det_algorithm='DB', det_model_dir='/Users/wtdafg/.paddleocr/whl/det/en/en_PP-OCRv3_det_infer', det_limit_side_len=960, det_limit_type='max', det_box_type='quad', det_db_thresh=0.3, det_db_box_thresh=0.6, det_db_unclip_ratio=1.5, max_batch_size=10, use_dilation=False, det_db_score_mode='fast', det_east_score_thresh=0.8, det_east_cover_thresh=0.1, det_east_nms_thresh=0.2, det_sast_score_thresh=0.5, det_sast_nms_thresh=0.2, det_pse_thresh=0, det_pse_box_thresh=0.85, det_pse_min_area=16, det_pse_scale=1, scales=[8, 16, 32], alpha=1.0, beta=1.0, fourier_degree=5, rec_algorithm='SVTR_LCNet', rec_model_dir='/Users/wtdafg/.paddleocr/whl/rec/en/en_PP-OCRv4_rec_infer', rec_image_inverse=True, rec_image_shape='3, 48, 320', rec_batch_num=6, max_text_length=25, rec_char_dict_path='/Users/wtdafg/Documents/python/venv/lib/python3.11/site-packages/paddleocr/ppocr/utils/en_dict.txt', use_space_char=True, vis_font_path='./doc/fonts/simfang.ttf', drop_score=0.5, e2e_algorithm='PGNet', e2e_model_dir=None, e2e_limit_side_len=768, e2e_limit_type='max', e2e_pgnet_score_thresh=0.5, e2e_char_dict_path='./ppocr/utils/ic15_dict.txt', e2e_pgnet_valid_set='totaltext', e2e_pgnet_mode='fast', use_angle_cls=True, cls_model_dir='/Users/wtdafg/.paddleocr/whl/cls/ch_ppocr_mobile_v2.0_cls_infer', cls_image_shape='3, 48, 192', label_list=['0', '180'], cls_batch_num=6, cls_thresh=0.9, enable_mkldnn=False, cpu_threads=10, use_pdserving=False, warmup=False, sr_model_dir=None, sr_image_shape='3, 32, 128', sr_batch_num=1, draw_img_save_dir='./inference_results', save_crop_res=False, crop_res_save_dir='./output', use_mp=False, total_process_num=1, process_id=0, benchmark=False, save_log_path='./log_output/', show_log=True, use_onnx=False, return_word_box=False, output='./output', table_max_len=488, table_algorithm='TableAttn', table_model_dir=None, merge_no_span_structure=True, table_char_dict_path=None, layout_model_dir=None, layout_dict_path=None, layout_score_threshold=0.5, layout_nms_threshold=0.5, kie_algorithm='LayoutXLM', ser_model_dir=None, re_model_dir=None, use_visual_backbone=True, ser_dict_path='../train_data/XFUND/class_list_xfun.txt', ocr_order_method=None, mode='structure', image_orientation=False, layout=True, table=True, ocr=True, recovery=False, use_pdf2docx_api=False, invert=False, binarize=False, alphacolor=(255, 255, 255), lang='en', det=True, rec=True, type='ocr', savefile=False, ocr_version='PP-OCRv4', structure_version='PP-StructureV2')\n",
      "[2024/10/12 21:34:10] ppocr DEBUG: dt_boxes num : 11, elapsed : 0.48096728324890137\n",
      "[2024/10/12 21:34:10] ppocr DEBUG: cls num  : 11, elapsed : 0.06728124618530273\n",
      "[2024/10/12 21:34:11] ppocr DEBUG: rec_res num  : 11, elapsed : 0.8205323219299316\n",
      "Total Area: 46.900000000000006\n",
      "Filtered Items: ['3.2', '20.0', '6.5', '1.8', '4.7', '10.7']\n"
     ]
    }
   ],
   "source": [
    "import re\n",
    "from paddleocr import PaddleOCR\n",
    "import cv2\n",
    "\n",
    "# Initialize PaddleOCR model\n",
    "ocr_model = PaddleOCR(use_angle_cls=True, lang='en')  # Set 'en' for English\n",
    "\n",
    "# Compile regex pattern for number extraction\n",
    "number_pattern = re.compile(r'[-+]?[0-9]*\\.?[0-9]+(?:,[0-9]+)?')\n",
    "\n",
    "# Optimized filter and calculate total area function\n",
    "def filter_and_calculate_total_area(items):\n",
    "    filtered_items = []\n",
    "    \n",
    "    for item in items:\n",
    "        # Replace commas with dots and handle duplicate dots\n",
    "        item = item.replace('..', '.').replace(',', '.')\n",
    "        \n",
    "        # Extract value inside parentheses if present\n",
    "        item = re.sub(r'.*\\(([^)]+)\\).*', r'\\1', item)\n",
    "        \n",
    "        # Check if the item contains a valid number and filter\n",
    "        if '.' in item:\n",
    "            filtered_items.append(item)\n",
    "    \n",
    "    # Calculate the total area\n",
    "    total_area = sum(map(float, filtered_items))\n",
    "    \n",
    "    return total_area, filtered_items\n",
    "\n",
    "# Load image using OpenCV\n",
    "image_path = '/Users/wtdafg/Documents/python/datathon/8517702bce16aa5e85067bd622582086dbdbbddd.webp'\n",
    "image = cv2.imread(image_path)\n",
    "\n",
    "# Perform OCR on the image\n",
    "ocr_results = ocr_model.ocr(image_path)\n",
    "\n",
    "# Extract text in one go\n",
    "text = [word_info[1][0] for line in ocr_results for word_info in line]\n",
    "\n",
    "# Calculate and print the total area\n",
    "total_area, filtered_items = filter_and_calculate_total_area(text)\n",
    "print(f\"Total Area: {total_area}\")\n",
    "print(f\"Filtered Items: {filtered_items}\")\n"
   ]
  },
  {
   "cell_type": "code",
   "execution_count": 41,
   "metadata": {},
   "outputs": [
    {
     "name": "stdout",
     "output_type": "stream",
     "text": [
      "[2024/10/12 23:36:01] ppocr DEBUG: Namespace(help='==SUPPRESS==', use_gpu=False, use_xpu=False, use_npu=False, use_mlu=False, ir_optim=True, use_tensorrt=False, min_subgraph_size=15, precision='fp32', gpu_mem=500, gpu_id=0, image_dir=None, page_num=0, det_algorithm='DB', det_model_dir='/Users/wtdafg/.paddleocr/whl/det/ch/ch_PP-OCRv4_det_infer', det_limit_side_len=960, det_limit_type='max', det_box_type='quad', det_db_thresh=0.3, det_db_box_thresh=0.6, det_db_unclip_ratio=1.5, max_batch_size=10, use_dilation=False, det_db_score_mode='fast', det_east_score_thresh=0.8, det_east_cover_thresh=0.1, det_east_nms_thresh=0.2, det_sast_score_thresh=0.5, det_sast_nms_thresh=0.2, det_pse_thresh=0, det_pse_box_thresh=0.85, det_pse_min_area=16, det_pse_scale=1, scales=[8, 16, 32], alpha=1.0, beta=1.0, fourier_degree=5, rec_algorithm='SVTR_LCNet', rec_model_dir='/Users/wtdafg/.paddleocr/whl/rec/ch/ch_PP-OCRv4_rec_infer', rec_image_inverse=True, rec_image_shape='3, 48, 320', rec_batch_num=6, max_text_length=25, rec_char_dict_path='/Users/wtdafg/Documents/python/venv/lib/python3.11/site-packages/paddleocr/ppocr/utils/ppocr_keys_v1.txt', use_space_char=True, vis_font_path='./doc/fonts/simfang.ttf', drop_score=0.5, e2e_algorithm='PGNet', e2e_model_dir=None, e2e_limit_side_len=768, e2e_limit_type='max', e2e_pgnet_score_thresh=0.5, e2e_char_dict_path='./ppocr/utils/ic15_dict.txt', e2e_pgnet_valid_set='totaltext', e2e_pgnet_mode='fast', use_angle_cls=True, cls_model_dir='/Users/wtdafg/.paddleocr/whl/cls/ch_ppocr_mobile_v2.0_cls_infer', cls_image_shape='3, 48, 192', label_list=['0', '180'], cls_batch_num=6, cls_thresh=0.9, enable_mkldnn=False, cpu_threads=10, use_pdserving=False, warmup=False, sr_model_dir=None, sr_image_shape='3, 32, 128', sr_batch_num=1, draw_img_save_dir='./inference_results', save_crop_res=False, crop_res_save_dir='./output', use_mp=False, total_process_num=1, process_id=0, benchmark=False, save_log_path='./log_output/', show_log=True, use_onnx=False, return_word_box=False, output='./output', table_max_len=488, table_algorithm='TableAttn', table_model_dir=None, merge_no_span_structure=True, table_char_dict_path=None, layout_model_dir=None, layout_dict_path=None, layout_score_threshold=0.5, layout_nms_threshold=0.5, kie_algorithm='LayoutXLM', ser_model_dir=None, re_model_dir=None, use_visual_backbone=True, ser_dict_path='../train_data/XFUND/class_list_xfun.txt', ocr_order_method=None, mode='structure', image_orientation=False, layout=True, table=True, ocr=True, recovery=False, use_pdf2docx_api=False, invert=False, binarize=False, alphacolor=(255, 255, 255), lang='ch', det=True, rec=True, type='ocr', savefile=False, ocr_version='PP-OCRv4', structure_version='PP-StructureV2')\n",
      "Processing image: zhk-domashniy-moscow-plan-14.png\n",
      "[2024/10/12 23:36:01] ppocr DEBUG: dt_boxes num : 17, elapsed : 0.21599602699279785\n",
      "[2024/10/12 23:36:01] ppocr DEBUG: cls num  : 17, elapsed : 0.08765196800231934\n",
      "[2024/10/12 23:36:03] ppocr DEBUG: rec_res num  : 17, elapsed : 1.3531999588012695\n",
      "OCR results for zhk-domashniy-moscow-plan-14.png: [[[[[180.0, 34.0], [208.0, 34.0], [208.0, 45.0], [180.0, 45.0]], ('2640', 0.995040774345398)], [[[308.0, 34.0], [336.0, 34.0], [336.0, 45.0], [308.0, 45.0]], ('2510', 0.9974251985549927)], [[[168.0, 134.0], [193.0, 134.0], [193.0, 146.0], [168.0, 146.0]], ('5.44', 0.9962183237075806)], [[[266.0, 134.0], [291.0, 134.0], [291.0, 149.0], [266.0, 149.0]], ('00', 0.6320236921310425)], [[[266.0, 149.0], [290.0, 149.0], [290.0, 161.0], [266.0, 161.0]], ('O0', 0.6191479563713074)], [[[315.0, 150.0], [345.0, 150.0], [345.0, 165.0], [315.0, 165.0]], ('12,60', 0.9683874249458313)], [[[430.0, 173.0], [439.0, 173.0], [439.0, 186.0], [430.0, 186.0]], ('品', 0.6067474484443665)], [[[190.0, 196.0], [210.0, 196.0], [210.0, 208.0], [190.0, 208.0]], ('1,07', 0.9276913404464722)], [[[45.0, 242.0], [53.0, 242.0], [53.0, 261.0], [45.0, 261.0]], ('0', 0.5228662490844727)], [[[161.0, 243.0], [184.0, 243.0], [184.0, 255.0], [161.0, 255.0]], ('3,20', 0.9030786156654358)], [[[45.0, 366.0], [52.0, 366.0], [52.0, 391.0], [45.0, 391.0]], ('0852', 0.5234083533287048)], [[[200.0, 362.0], [225.0, 362.0], [225.0, 374.0], [200.0, 374.0]], ('17.74', 0.9627135992050171)], [[[242.0, 484.0], [272.0, 484.0], [272.0, 499.0], [242.0, 499.0]], ('5250', 0.9909591674804688)]]]\n",
      "Extracted text for zhk-domashniy-moscow-plan-14.png: ['2640', '2510', '5.44', '00', 'O0', '12,60', '品', '1,07', '0', '3,20', '0852', '17.74', '5250']\n",
      "Filtered items for zhk-domashniy-moscow-plan-14.png: ['5.44', '12.60', '1.07', '3.20', '17.74']\n",
      "Total area for zhk-domashniy-moscow-plan-14.png: 40.05\n",
      "Processing image: zhk-domashniy-moscow-plan-15.png\n",
      "[2024/10/12 23:36:03] ppocr DEBUG: dt_boxes num : 12, elapsed : 0.17647480964660645\n",
      "[2024/10/12 23:36:03] ppocr DEBUG: cls num  : 12, elapsed : 0.05802106857299805\n",
      "[2024/10/12 23:36:04] ppocr DEBUG: rec_res num  : 12, elapsed : 0.8973679542541504\n",
      "OCR results for zhk-domashniy-moscow-plan-15.png: [[[[[230.0, 31.0], [251.0, 31.0], [251.0, 39.0], [230.0, 39.0]], ('0/6', 0.5773811340332031)], [[[257.0, 221.0], [282.0, 221.0], [282.0, 232.0], [257.0, 232.0]], ('23.87', 0.9207085371017456)], [[[352.0, 299.0], [373.0, 299.0], [373.0, 310.0], [352.0, 310.0]], ('8.26', 0.9892809391021729)], [[[404.0, 366.0], [423.0, 366.0], [423.0, 378.0], [404.0, 378.0]], ('4,01', 0.8915475606918335)], [[[240.0, 378.0], [266.0, 381.0], [265.0, 393.0], [239.0, 390.0]], ('13.65', 0.990452766418457)], [[[326.0, 376.0], [348.0, 376.0], [348.0, 388.0], [326.0, 388.0]], ('2.90', 0.9184179902076721)], [[[198.0, 465.0], [224.0, 465.0], [224.0, 477.0], [198.0, 477.0]], ('3650', 0.9989017844200134)], [[[316.0, 466.0], [341.0, 466.0], [341.0, 477.0], [316.0, 477.0]], ('1570', 0.9949613809585571)], [[[393.0, 466.0], [416.0, 466.0], [416.0, 477.0], [393.0, 477.0]], ('1820', 0.9953305721282959)], [[[275.0, 483.0], [303.0, 483.0], [303.0, 497.0], [275.0, 497.0]], ('7240', 0.9882284998893738)]]]\n",
      "Extracted text for zhk-domashniy-moscow-plan-15.png: ['0/6', '23.87', '8.26', '4,01', '13.65', '2.90', '3650', '1570', '1820', '7240']\n",
      "Filtered items for zhk-domashniy-moscow-plan-15.png: ['23.87', '8.26', '4.01', '13.65', '2.90']\n",
      "Total area for zhk-domashniy-moscow-plan-15.png: 52.69\n",
      "Processing image: zhk-domashniy-moscow-plan-17.png\n",
      "[2024/10/12 23:36:04] ppocr DEBUG: dt_boxes num : 13, elapsed : 0.17216897010803223\n",
      "[2024/10/12 23:36:04] ppocr DEBUG: cls num  : 13, elapsed : 0.06554007530212402\n",
      "[2024/10/12 23:36:05] ppocr DEBUG: rec_res num  : 13, elapsed : 1.0220012664794922\n",
      "OCR results for zhk-domashniy-moscow-plan-17.png: [[[[[205.0, 33.0], [239.0, 33.0], [239.0, 47.0], [205.0, 47.0]], ('3200', 0.9960941076278687)], [[[367.0, 34.0], [393.0, 34.0], [393.0, 46.0], [367.0, 46.0]], ('1715', 0.999242901802063)], [[[492.0, 138.0], [500.0, 138.0], [500.0, 159.0], [492.0, 159.0]], ('ORL', 0.9464103579521179)], [[[366.0, 143.0], [393.0, 143.0], [393.0, 158.0], [366.0, 158.0]], ('3.08', 0.8729336261749268)], [[[216.0, 168.0], [242.0, 168.0], [242.0, 180.0], [216.0, 180.0]], ('6,08', 0.8966724872589111)], [[[38.0, 226.0], [49.0, 226.0], [49.0, 243.0], [38.0, 243.0]], ('55', 0.9991694688796997)], [[[38.0, 240.0], [49.0, 240.0], [49.0, 257.0], [38.0, 257.0]], ('54', 0.9991084337234497)], [[[492.0, 289.0], [500.0, 289.0], [500.0, 303.0], [492.0, 303.0]], ('35', 0.7911731004714966)], [[[227.0, 316.0], [260.0, 316.0], [260.0, 330.0], [227.0, 330.0]], ('18.24', 0.9543637037277222)], [[[264.0, 422.0], [298.0, 422.0], [298.0, 436.0], [264.0, 436.0]], ('5490', 0.9986933469772339)]]]\n",
      "Extracted text for zhk-domashniy-moscow-plan-17.png: ['3200', '1715', 'ORL', '3.08', '6,08', '55', '54', '35', '18.24', '5490']\n",
      "Filtered items for zhk-domashniy-moscow-plan-17.png: ['3.08', '6.08', '18.24']\n",
      "Total area for zhk-domashniy-moscow-plan-17.png: 27.4\n",
      "Processing image: zhk-domashniy-moscow-plan-16.png\n",
      "[2024/10/12 23:36:05] ppocr DEBUG: dt_boxes num : 14, elapsed : 0.18537092208862305\n",
      "[2024/10/12 23:36:05] ppocr DEBUG: cls num  : 14, elapsed : 0.06846880912780762\n",
      "[2024/10/12 23:36:06] ppocr DEBUG: rec_res num  : 14, elapsed : 1.0837838649749756\n",
      "OCR results for zhk-domashniy-moscow-plan-16.png: [[[[[164.0, 33.0], [196.0, 33.0], [196.0, 48.0], [164.0, 48.0]], ('2660', 0.9961739182472229)], [[[298.0, 33.0], [327.0, 33.0], [327.0, 48.0], [298.0, 48.0]], ('2210', 0.9957766532897949)], [[[470.0, 134.0], [475.0, 134.0], [475.0, 140.0], [470.0, 140.0]], ('5', 0.5477394461631775)], [[[303.0, 150.0], [325.0, 150.0], [325.0, 165.0], [303.0, 165.0]], ('3.17', 0.9946767091751099)], [[[176.0, 178.0], [197.0, 178.0], [197.0, 190.0], [176.0, 190.0]], ('5.12', 0.8817838430404663)], [[[17.0, 245.0], [27.0, 245.0], [27.0, 260.0], [17.0, 260.0]], ('25', 0.9940798282623291)], [[[18.0, 258.0], [25.0, 258.0], [25.0, 270.0], [18.0, 270.0]], ('39', 0.5459854006767273)], [[[179.0, 329.0], [206.0, 329.0], [206.0, 344.0], [179.0, 344.0]], ('17.21', 0.976401150226593)], [[[237.0, 452.0], [270.0, 452.0], [270.0, 466.0], [237.0, 466.0]], ('5490', 0.9987504482269287)]]]\n",
      "Extracted text for zhk-domashniy-moscow-plan-16.png: ['2660', '2210', '5', '3.17', '5.12', '25', '39', '17.21', '5490']\n",
      "Filtered items for zhk-domashniy-moscow-plan-16.png: ['3.17', '5.12', '17.21']\n",
      "Total area for zhk-domashniy-moscow-plan-16.png: 25.5\n",
      "Processing image: zhk-domashniy-moscow-plan-18.png\n",
      "[2024/10/12 23:36:07] ppocr DEBUG: dt_boxes num : 15, elapsed : 0.19782400131225586\n",
      "[2024/10/12 23:36:07] ppocr DEBUG: cls num  : 15, elapsed : 0.07471418380737305\n",
      "[2024/10/12 23:36:08] ppocr DEBUG: rec_res num  : 15, elapsed : 1.1457030773162842\n",
      "OCR results for zhk-domashniy-moscow-plan-18.png: [[[[[214.0, 24.0], [242.0, 24.0], [242.0, 37.0], [214.0, 37.0]], ('5870', 0.9992693662643433)], [[[235.0, 48.0], [261.0, 48.0], [261.0, 60.0], [235.0, 60.0]], ('4970', 0.9986941814422607)], [[[27.0, 170.0], [34.0, 170.0], [34.0, 188.0], [27.0, 188.0]], ('OSR', 0.8212717175483704)], [[[184.0, 205.0], [210.0, 205.0], [210.0, 216.0], [184.0, 216.0]], ('19.74', 0.9375439882278442)], [[[479.0, 249.0], [486.0, 249.0], [486.0, 268.0], [479.0, 268.0]], ('224', 0.612438440322876)], [[[138.0, 283.0], [157.0, 283.0], [157.0, 303.0], [138.0, 303.0]], ('米', 0.989282488822937)], [[[260.0, 295.0], [283.0, 295.0], [283.0, 306.0], [260.0, 306.0]], ('4.41', 0.9972840547561646)], [[[204.0, 344.0], [227.0, 344.0], [227.0, 356.0], [204.0, 356.0]], ('7.90', 0.9287540912628174)], [[[450.0, 362.0], [460.0, 362.0], [460.0, 391.0], [450.0, 391.0]], ('0007', 0.6951520442962646)], [[[315.0, 374.0], [338.0, 371.0], [339.0, 384.0], [317.0, 387.0]], ('3.74', 0.9870612621307373)], [[[177.0, 460.0], [208.0, 460.0], [208.0, 474.0], [177.0, 474.0]], ('2500', 0.9939850568771362)], [[[307.0, 461.0], [332.0, 461.0], [332.0, 472.0], [307.0, 472.0]], ('1870', 0.9956479072570801)]]]\n",
      "Extracted text for zhk-domashniy-moscow-plan-18.png: ['5870', '4970', 'OSR', '19.74', '224', '米', '4.41', '7.90', '0007', '3.74', '2500', '1870']\n",
      "Filtered items for zhk-domashniy-moscow-plan-18.png: ['19.74', '4.41', '7.90', '3.74']\n",
      "Total area for zhk-domashniy-moscow-plan-18.png: 35.79\n",
      "Processing image: zhk-domashniy-moscow-plan-19.png\n",
      "[2024/10/12 23:36:08] ppocr DEBUG: dt_boxes num : 8, elapsed : 0.17354321479797363\n",
      "[2024/10/12 23:36:08] ppocr DEBUG: cls num  : 8, elapsed : 0.042685747146606445\n",
      "[2024/10/12 23:36:09] ppocr DEBUG: rec_res num  : 8, elapsed : 0.6366031169891357\n",
      "OCR results for zhk-domashniy-moscow-plan-19.png: [[[[[224.0, 33.0], [263.0, 33.0], [263.0, 48.0], [224.0, 48.0]], ('5095', 0.999333381652832)], [[[427.0, 33.0], [463.0, 33.0], [463.0, 48.0], [427.0, 48.0]], ('3105', 0.9984006881713867)], [[[21.0, 182.0], [38.0, 181.0], [41.0, 221.0], [24.0, 222.0]], ('4250', 0.9913588762283325)], [[[370.0, 173.0], [403.0, 173.0], [403.0, 190.0], [370.0, 190.0]], ('4.64', 0.9473225474357605)], [[[164.0, 191.0], [203.0, 191.0], [203.0, 205.0], [164.0, 205.0]], ('22.07', 0.9715539216995239)], [[[543.0, 192.0], [557.0, 192.0], [557.0, 232.0], [543.0, 232.0]], ('3900', 0.9981951713562012)], [[[393.0, 232.0], [420.0, 232.0], [420.0, 246.0], [393.0, 246.0]], ('4.71', 0.9974521398544312)], [[[292.0, 344.0], [332.0, 344.0], [332.0, 358.0], [292.0, 358.0]], ('7900', 0.9991191029548645)]]]\n",
      "Extracted text for zhk-domashniy-moscow-plan-19.png: ['5095', '3105', '4250', '4.64', '22.07', '3900', '4.71', '7900']\n",
      "Filtered items for zhk-domashniy-moscow-plan-19.png: ['4.64', '22.07', '4.71']\n",
      "Total area for zhk-domashniy-moscow-plan-19.png: 31.42\n",
      "Final DataFrame:\n",
      "                          Image Name  Total Area  \\\n",
      "0  zhk-domashniy-moscow-plan-14.png       40.05   \n",
      "1  zhk-domashniy-moscow-plan-15.png       52.69   \n",
      "2  zhk-domashniy-moscow-plan-17.png       27.40   \n",
      "3  zhk-domashniy-moscow-plan-16.png       25.50   \n",
      "4  zhk-domashniy-moscow-plan-18.png       35.79   \n",
      "5  zhk-domashniy-moscow-plan-19.png       31.42   \n",
      "\n",
      "                   Filtered Items  \n",
      "0  5.44, 12.60, 1.07, 3.20, 17.74  \n",
      "1  23.87, 8.26, 4.01, 13.65, 2.90  \n",
      "2               3.08, 6.08, 18.24  \n",
      "3               3.17, 5.12, 17.21  \n",
      "4         19.74, 4.41, 7.90, 3.74  \n",
      "5               4.64, 22.07, 4.71  \n",
      "Results saved to /Users/wtdafg/Documents/python/datathon/results.xlsx\n"
     ]
    }
   ],
   "source": [
    "import os\n",
    "import re\n",
    "import cv2\n",
    "import pandas as pd\n",
    "from paddleocr import PaddleOCR\n",
    "from glob import glob\n",
    "\n",
    "# Initialize PaddleOCR model\n",
    "ocr_model = PaddleOCR(use_angle_cls=True)\n",
    "\n",
    "# Compile regex pattern for number extraction\n",
    "number_pattern = re.compile(r'[-+]?[0-9]*\\.?[0-9]+(?:,[0-9]+)?')\n",
    "\n",
    "# Optimized filter and calculate total area function\n",
    "def filter_and_calculate_total_area(items):\n",
    "    filtered_items = []\n",
    "    \n",
    "    for item in items:\n",
    "        # Replace commas with dots and handle duplicate dots\n",
    "        item = item.replace('..', '.').replace(',', '.')\n",
    "        \n",
    "        # Extract value inside parentheses if present\n",
    "        item = re.sub(r'.*\\(([^)]+)\\).*', r'\\1', item)\n",
    "        \n",
    "        # Extract only the numeric part, ignore letters like 'M', 'K', or non-numeric text like 'ap.-H'\n",
    "        numeric_value = re.sub(r'[^\\d\\.-]', '', item)\n",
    "        \n",
    "        # Check if the item contains a valid float number and is less than or equal to 100\n",
    "        if re.match(r'^[+-]?(\\d+(\\.\\d*)?|\\.\\d+)$', numeric_value):\n",
    "            try:\n",
    "                num = float(numeric_value)\n",
    "                if num <= 100 and '.' in numeric_value:  # Ensure it's a float (contains a dot) and is <= 100\n",
    "                    filtered_items.append(numeric_value)\n",
    "            except ValueError:\n",
    "                pass  # Ignore invalid conversions\n",
    "    \n",
    "    # Convert to float and calculate the total area\n",
    "    total_area = sum(map(float, filtered_items)) if filtered_items else 0  # Return 0 if no valid items\n",
    "    \n",
    "    return total_area, filtered_items\n",
    "\n",
    "# Define folder containing images\n",
    "image_folder = '/Users/wtdafg/Documents/python/datathon/domashniy'\n",
    "\n",
    "# List all jpg image files in the folder\n",
    "image_files = glob(os.path.join(image_folder, '*.png'))  # Adjusted extension to match your images\n",
    "\n",
    "# List to store the results for each image\n",
    "results = []\n",
    "\n",
    "# Loop through each image and process\n",
    "for image_path in image_files:\n",
    "    image_name = os.path.basename(image_path)  # Get the image name\n",
    "    print(f\"Processing image: {image_name}\")\n",
    "    \n",
    "    # Perform OCR on the image\n",
    "    ocr_results = ocr_model.ocr(image_path)\n",
    "    \n",
    "    # Debug: Print OCR results\n",
    "    print(f\"OCR results for {image_name}: {ocr_results}\")\n",
    "    \n",
    "    # Extract text from OCR results\n",
    "    text = [word_info[1][0] for line in ocr_results for word_info in line]\n",
    "    \n",
    "    # Debug: Print extracted text\n",
    "    print(f\"Extracted text for {image_name}: {text}\")\n",
    "    \n",
    "    # Calculate total area and filtered items\n",
    "    total_area, filtered_items = filter_and_calculate_total_area(text)\n",
    "    \n",
    "    # Debug: Print filtered items and total area\n",
    "    print(f\"Filtered items for {image_name}: {filtered_items}\")\n",
    "    print(f\"Total area for {image_name}: {total_area}\")\n",
    "    \n",
    "    # Append the result as a dictionary\n",
    "    results.append({\n",
    "        'Image Name': image_name,\n",
    "        'Total Area': total_area,\n",
    "        'Filtered Items': ', '.join(filtered_items)  # Join filtered items into a single string\n",
    "    })\n",
    "\n",
    "# Convert the results list to a DataFrame\n",
    "df_results = pd.DataFrame(results)\n",
    "\n",
    "# Debug: Print the final DataFrame before saving\n",
    "print(\"Final DataFrame:\\n\", df_results)\n",
    "\n",
    "# Save the DataFrame to an Excel file (Make sure to include .xlsx in the filename)\n",
    "output_excel_path = '/Users/wtdafg/Documents/python/datathon/results.xlsx'\n",
    "df_results.to_excel(output_excel_path, index=False)\n",
    "\n",
    "print(f\"Results saved to {output_excel_path}\")\n"
   ]
  },
  {
   "cell_type": "code",
   "execution_count": 30,
   "metadata": {},
   "outputs": [
    {
     "data": {
      "text/plain": [
       "144.09000000000003"
      ]
     },
     "execution_count": 30,
     "metadata": {},
     "output_type": "execute_result"
    }
   ],
   "source": [
    "#https://ecpu.ru/moscow/new/zhk-domashniy/plans/"
   ]
  },
  {
   "cell_type": "code",
   "execution_count": 36,
   "metadata": {},
   "outputs": [
    {
     "name": "stdout",
     "output_type": "stream",
     "text": [
      "download https://paddleocr.bj.bcebos.com/PP-OCRv4/chinese/ch_PP-OCRv4_det_infer.tar to /Users/wtdafg/.paddleocr/whl/det/ch/ch_PP-OCRv4_det_infer/ch_PP-OCRv4_det_infer.tar\n"
     ]
    },
    {
     "name": "stderr",
     "output_type": "stream",
     "text": [
      "100%|██████████| 4.89M/4.89M [00:20<00:00, 234kiB/s] \n"
     ]
    },
    {
     "name": "stdout",
     "output_type": "stream",
     "text": [
      "download https://paddleocr.bj.bcebos.com/PP-OCRv4/chinese/ch_PP-OCRv4_rec_infer.tar to /Users/wtdafg/.paddleocr/whl/rec/ch/ch_PP-OCRv4_rec_infer/ch_PP-OCRv4_rec_infer.tar\n"
     ]
    },
    {
     "name": "stderr",
     "output_type": "stream",
     "text": [
      "100%|██████████| 11.0M/11.0M [00:30<00:00, 364kiB/s] "
     ]
    },
    {
     "name": "stdout",
     "output_type": "stream",
     "text": [
      "[2024/10/12 22:43:43] ppocr DEBUG: Namespace(help='==SUPPRESS==', use_gpu=False, use_xpu=False, use_npu=False, use_mlu=False, ir_optim=True, use_tensorrt=False, min_subgraph_size=15, precision='fp32', gpu_mem=500, gpu_id=0, image_dir=None, page_num=0, det_algorithm='DB', det_model_dir='/Users/wtdafg/.paddleocr/whl/det/ch/ch_PP-OCRv4_det_infer', det_limit_side_len=960, det_limit_type='max', det_box_type='quad', det_db_thresh=0.3, det_db_box_thresh=0.6, det_db_unclip_ratio=1.5, max_batch_size=10, use_dilation=False, det_db_score_mode='fast', det_east_score_thresh=0.8, det_east_cover_thresh=0.1, det_east_nms_thresh=0.2, det_sast_score_thresh=0.5, det_sast_nms_thresh=0.2, det_pse_thresh=0, det_pse_box_thresh=0.85, det_pse_min_area=16, det_pse_scale=1, scales=[8, 16, 32], alpha=1.0, beta=1.0, fourier_degree=5, rec_algorithm='SVTR_LCNet', rec_model_dir='/Users/wtdafg/.paddleocr/whl/rec/ch/ch_PP-OCRv4_rec_infer', rec_image_inverse=True, rec_image_shape='3, 48, 320', rec_batch_num=6, max_text_length=25, rec_char_dict_path='/Users/wtdafg/Documents/python/venv/lib/python3.11/site-packages/paddleocr/ppocr/utils/ppocr_keys_v1.txt', use_space_char=True, vis_font_path='./doc/fonts/simfang.ttf', drop_score=0.5, e2e_algorithm='PGNet', e2e_model_dir=None, e2e_limit_side_len=768, e2e_limit_type='max', e2e_pgnet_score_thresh=0.5, e2e_char_dict_path='./ppocr/utils/ic15_dict.txt', e2e_pgnet_valid_set='totaltext', e2e_pgnet_mode='fast', use_angle_cls=True, cls_model_dir='/Users/wtdafg/.paddleocr/whl/cls/ch_ppocr_mobile_v2.0_cls_infer', cls_image_shape='3, 48, 192', label_list=['0', '180'], cls_batch_num=6, cls_thresh=0.9, enable_mkldnn=False, cpu_threads=10, use_pdserving=False, warmup=False, sr_model_dir=None, sr_image_shape='3, 32, 128', sr_batch_num=1, draw_img_save_dir='./inference_results', save_crop_res=False, crop_res_save_dir='./output', use_mp=False, total_process_num=1, process_id=0, benchmark=False, save_log_path='./log_output/', show_log=True, use_onnx=False, return_word_box=False, output='./output', table_max_len=488, table_algorithm='TableAttn', table_model_dir=None, merge_no_span_structure=True, table_char_dict_path=None, layout_model_dir=None, layout_dict_path=None, layout_score_threshold=0.5, layout_nms_threshold=0.5, kie_algorithm='LayoutXLM', ser_model_dir=None, re_model_dir=None, use_visual_backbone=True, ser_dict_path='../train_data/XFUND/class_list_xfun.txt', ocr_order_method=None, mode='structure', image_orientation=False, layout=True, table=True, ocr=True, recovery=False, use_pdf2docx_api=False, invert=False, binarize=False, alphacolor=(255, 255, 255), lang='ch', det=True, rec=True, type='ocr', savefile=False, ocr_version='PP-OCRv4', structure_version='PP-StructureV2')\n"
     ]
    },
    {
     "name": "stderr",
     "output_type": "stream",
     "text": [
      "\n"
     ]
    },
    {
     "name": "stdout",
     "output_type": "stream",
     "text": [
      "[2024/10/12 22:43:44] ppocr DEBUG: dt_boxes num : 23, elapsed : 0.5537149906158447\n",
      "[2024/10/12 22:43:44] ppocr DEBUG: cls num  : 23, elapsed : 0.10938715934753418\n",
      "[2024/10/12 22:43:46] ppocr DEBUG: rec_res num  : 23, elapsed : 1.9328489303588867\n",
      "Total Area: 147.69\n",
      "Filtered Items: ['3.85', '23.5', '2.2', '36.0', '4.4', '21.7', '4.3', '4.7', '25.3', '18.8', '2.94']\n"
     ]
    }
   ],
   "source": [
    "import re\n",
    "from paddleocr import PaddleOCR\n",
    "import cv2\n",
    "\n",
    "# Initialize PaddleOCR model\n",
    "ocr_model = PaddleOCR(use_angle_cls=True)  # Set 'en' for English\n",
    "\n",
    "# Compile regex pattern for number extraction\n",
    "number_pattern = re.compile(r'[-+]?[0-9]*\\.?[0-9]+(?:,[0-9]+)?')\n",
    "\n",
    "# Optimized filter and calculate total area function\n",
    "def filter_and_calculate_total_area(items):\n",
    "    filtered_items = []\n",
    "    \n",
    "    for item in items:\n",
    "        # Replace commas with dots and handle duplicate dots\n",
    "        item = item.replace('..', '.').replace(',', '.')\n",
    "        \n",
    "        # Extract value inside parentheses if present\n",
    "        item = re.sub(r'.*\\(([^)]+)\\).*', r'\\1', item)\n",
    "        \n",
    "        # Check if the item contains a valid number and filter\n",
    "        if '.' in item:\n",
    "            filtered_items.append(item)\n",
    "    \n",
    "    # Calculate the total area\n",
    "    total_area = sum(map(float, filtered_items))\n",
    "    \n",
    "    return total_area, filtered_items\n",
    "\n",
    "# Load image using OpenCV\n",
    "image_path = '/Users/wtdafg/Documents/python/datathon/images/167779.jpg'\n",
    "image = cv2.imread(image_path)\n",
    "\n",
    "# Perform OCR on the image\n",
    "ocr_results = ocr_model.ocr(image_path)\n",
    "\n",
    "# Extract text in one go\n",
    "text = [word_info[1][0] for line in ocr_results for word_info in line]\n",
    "\n",
    "# Calculate and print the total area\n",
    "total_area, filtered_items = filter_and_calculate_total_area(text)\n",
    "print(f\"Total Area: {total_area}\")\n",
    "print(f\"Filtered Items: {filtered_items}\")\n"
   ]
  },
  {
   "cell_type": "code",
   "execution_count": 37,
   "metadata": {},
   "outputs": [
    {
     "data": {
      "text/plain": [
       "['3,85',\n",
       " 'KYXHA-CTONOBAR',\n",
       " '23,5',\n",
       " 'C/y',\n",
       " '2,2',\n",
       " 'FOCTNHAA',\n",
       " '36,0',\n",
       " 'MPNXOKAA',\n",
       " '4,4',\n",
       " 'LLOX',\n",
       " '21,7',\n",
       " 'BAHHAR',\n",
       " 'BAHHAA',\n",
       " '4,3',\n",
       " '4.7',\n",
       " 'CADHA',\n",
       " '25,3',\n",
       " 'CNANDHA',\n",
       " '18,8',\n",
       " 'BATKOH',\n",
       " '2,94']"
      ]
     },
     "execution_count": 37,
     "metadata": {},
     "output_type": "execute_result"
    }
   ],
   "source": [
    "text"
   ]
  }
 ],
 "metadata": {
  "kernelspec": {
   "display_name": "venv",
   "language": "python",
   "name": "python3"
  },
  "language_info": {
   "codemirror_mode": {
    "name": "ipython",
    "version": 3
   },
   "file_extension": ".py",
   "mimetype": "text/x-python",
   "name": "python",
   "nbconvert_exporter": "python",
   "pygments_lexer": "ipython3",
   "version": "3.11.5"
  }
 },
 "nbformat": 4,
 "nbformat_minor": 2
}
